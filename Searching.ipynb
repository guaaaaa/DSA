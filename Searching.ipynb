{
 "cells": [
  {
   "cell_type": "markdown",
   "id": "222b8850",
   "metadata": {},
   "source": [
    "# Searching\n",
    "Searching for a specific element in a given set of data"
   ]
  },
  {
   "cell_type": "markdown",
   "id": "92a58455",
   "metadata": {},
   "source": [
    "## Linear search\n",
    "Linear search is a simple searching algorithm that scans each element in an array sequentially from left to right until the desired element is found or confirmed to be missing.\n",
    "\n",
    "Time complexity: $O(n)$\n",
    "\n",
    "Space complexity: $O(1)$"
   ]
  },
  {
   "cell_type": "code",
   "execution_count": 1,
   "id": "bb890ce4",
   "metadata": {},
   "outputs": [],
   "source": [
    "# Linear search\n",
    "def linear_search(arr, value):\n",
    "    for i in range(len(arr)):\n",
    "        if arr[i] == value:\n",
    "            print(f'Found value {value} at index {i}')\n",
    "            return i\n",
    "        \n",
    "    print(f'{value} not found')\n",
    "    return -1"
   ]
  },
  {
   "cell_type": "code",
   "execution_count": 2,
   "id": "57920ef9",
   "metadata": {},
   "outputs": [
    {
     "name": "stdout",
     "output_type": "stream",
     "text": [
      "Found value 7 at index 2\n",
      "0 not found\n"
     ]
    },
    {
     "data": {
      "text/plain": [
       "-1"
      ]
     },
     "execution_count": 2,
     "metadata": {},
     "output_type": "execute_result"
    }
   ],
   "source": [
    "# Test\n",
    "linear_search([1, 3, 7, 6, 2, 9], 7)\n",
    "linear_search([1, 3, 7, 6, 2, 9], 0)"
   ]
  },
  {
   "cell_type": "markdown",
   "id": "73e4d28c",
   "metadata": {},
   "source": [
    "## Binary search\n",
    "Binary Search is an efficient algorithm for finding an element in a sorted array by repeatedly dividing the search range in half. It compares the target with the middle element—if they match, the search ends; otherwise, it eliminates half of the array and continues in the appropriate half until the element is found or the range is empty.\n",
    "\n",
    "<img src=\"https://miro.medium.com/v2/resize:fit:898/1*0OJ3eF9eO3FlPl5A_RtCSw.png\" width=500>\n",
    "\n",
    "Time complexity: $O(\\log(n))$\n",
    "\n",
    "Space complexity: $O(1)$"
   ]
  },
  {
   "cell_type": "code",
   "execution_count": 17,
   "id": "e2ea4845",
   "metadata": {},
   "outputs": [],
   "source": [
    "# Binary search\n",
    "def binary_search(arr, value):\n",
    "    # Define indexs\n",
    "    start = 0\n",
    "    end = len(arr) - 1\n",
    "    \n",
    "    while (start <= end):\n",
    "        mid = (start + end) // 2\n",
    "        \n",
    "        # If the value is found. return idx\n",
    "        if value == arr[mid]:\n",
    "            print(f'Found {value} at index {mid}')\n",
    "            return mid\n",
    "        \n",
    "        # If the value is less than mid, cut the right half\n",
    "        elif value < arr[mid]:\n",
    "            end = mid - 1\n",
    "            \n",
    "        # If the value is greater than mid, cut the left half\n",
    "        else:\n",
    "            start = mid + 1\n",
    "        \n",
    "    print(f'{value} not found')  \n",
    "    return -1"
   ]
  },
  {
   "cell_type": "code",
   "execution_count": 20,
   "id": "f9165ef9",
   "metadata": {},
   "outputs": [
    {
     "name": "stdout",
     "output_type": "stream",
     "text": [
      "Found 7 at index 3\n",
      "2 not found\n",
      "Found 1 at index 0\n",
      "0 not found\n",
      "1 not found\n"
     ]
    },
    {
     "data": {
      "text/plain": [
       "-1"
      ]
     },
     "execution_count": 20,
     "metadata": {},
     "output_type": "execute_result"
    }
   ],
   "source": [
    "# Tests\n",
    "binary_search([1, 3, 5, 7, 9, 11], 7)\n",
    "binary_search([1, 3, 5, 7, 9, 11], 2)\n",
    "binary_search([1], 1)\n",
    "binary_search([1], 0)\n",
    "binary_search([], 1)"
   ]
  }
 ],
 "metadata": {
  "kernelspec": {
   "display_name": "Python 3 (ipykernel)",
   "language": "python",
   "name": "python3"
  },
  "language_info": {
   "codemirror_mode": {
    "name": "ipython",
    "version": 3
   },
   "file_extension": ".py",
   "mimetype": "text/x-python",
   "name": "python",
   "nbconvert_exporter": "python",
   "pygments_lexer": "ipython3",
   "version": "3.11.5"
  }
 },
 "nbformat": 4,
 "nbformat_minor": 5
}
