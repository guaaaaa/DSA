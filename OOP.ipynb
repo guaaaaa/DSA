{
 "cells": [
  {
   "cell_type": "markdown",
   "id": "6d957aa1",
   "metadata": {},
   "source": [
    "# OOP\n",
    "Object-oriented programming (OOP) is a programming paradigm based on the concept of objects that can interact with each other, where each object can have their own characteristics (attributes) and behaviour (methods)\n",
    "\n",
    "The key building blocks of OOP are:\n",
    "* Classes - user-defined data types that act as the blueprint for objects, attributes, and methods.\n",
    "\n",
    "\n",
    "* Objects - instances of a class with specifically defined data and methods\n",
    "\n",
    "\n",
    "* Methods - functions that are defined inside a class that an object can perform\n",
    "\n",
    "\n",
    "* Attributes - defined in the class and represent the characteristics of an object"
   ]
  },
  {
   "cell_type": "markdown",
   "id": "192f7e80",
   "metadata": {},
   "source": [
    "# Define a class"
   ]
  },
  {
   "cell_type": "code",
   "execution_count": 4,
   "id": "c78e72ff",
   "metadata": {},
   "outputs": [],
   "source": [
    "class Person: # a class is the sturcture of a type of objects\n",
    "    # Define attributes\n",
    "    def __init__(self, name, age, number=0): \n",
    "        # init function is called when an object is crerated\n",
    "        # self refers to the specific object, P1 in this case\n",
    "        self.name = name \n",
    "        # the first \"name\" is the feature applied to all objects with this class\n",
    "        # the second name is the actual value passed from the parameter(\"A\")\n",
    "        # P1.name = name\n",
    "        self.age = age\n",
    "        self.number = number # Default value\n",
    "    \n",
    "    # Define methods\n",
    "    def printf(self):\n",
    "        print(self.name)\n",
    "        print(self.age)"
   ]
  },
  {
   "cell_type": "markdown",
   "id": "b568b190",
   "metadata": {},
   "source": [
    "# Create an object"
   ]
  },
  {
   "cell_type": "code",
   "execution_count": 5,
   "id": "f04a0e1d",
   "metadata": {},
   "outputs": [],
   "source": [
    "P1 = Person(\"A\",1) # Define attributes"
   ]
  },
  {
   "cell_type": "markdown",
   "id": "b68aff28",
   "metadata": {},
   "source": [
    "# Interact with an object"
   ]
  },
  {
   "cell_type": "code",
   "execution_count": 6,
   "id": "d285af5f",
   "metadata": {},
   "outputs": [
    {
     "name": "stdout",
     "output_type": "stream",
     "text": [
      "B\n",
      "1\n"
     ]
    }
   ],
   "source": [
    "# Access atrribute\n",
    "P1.name = \"B\"\n",
    "\n",
    "# Call method\n",
    "P1.printf()"
   ]
  }
 ],
 "metadata": {
  "kernelspec": {
   "display_name": "Python 3 (ipykernel)",
   "language": "python",
   "name": "python3"
  },
  "language_info": {
   "codemirror_mode": {
    "name": "ipython",
    "version": 3
   },
   "file_extension": ".py",
   "mimetype": "text/x-python",
   "name": "python",
   "nbconvert_exporter": "python",
   "pygments_lexer": "ipython3",
   "version": "3.11.5"
  }
 },
 "nbformat": 4,
 "nbformat_minor": 5
}
