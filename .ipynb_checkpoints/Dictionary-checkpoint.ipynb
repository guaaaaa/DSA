{
 "cells": [
  {
   "cell_type": "markdown",
   "id": "cf42833d",
   "metadata": {},
   "source": [
    "# Create a dictionary\n",
    "Time complexity: $O(n)$\n",
    "\n",
    "Space complexity: $O(n)$"
   ]
  },
  {
   "cell_type": "code",
   "execution_count": 6,
   "id": "cb4646b6",
   "metadata": {},
   "outputs": [
    {
     "data": {
      "text/plain": [
       "{'a': 1, 'b': 2, 'c': 1}"
      ]
     },
     "execution_count": 6,
     "metadata": {},
     "output_type": "execute_result"
    }
   ],
   "source": [
    "dic = {'a':1, 'b':2, 'c':1}\n",
    "dic"
   ]
  },
  {
   "cell_type": "markdown",
   "id": "8463e9bb",
   "metadata": {},
   "source": [
    "# Dictionary in memeory\n",
    "A dictionary is stored in memory in the form of a hash table with an ordered array of ranges and their corresponding values. Each key is hashed by a hash function; the value of that corresponding key is stored in an array with the index depending on the hash of its key\n",
    "\n",
    "<img src=\"https://www.laurentluce.com/images/blog/dict/resizing.png\" width=500>"
   ]
  },
  {
   "cell_type": "markdown",
   "id": "deca6e86",
   "metadata": {},
   "source": [
    "# Insert into and update a dictionary \n",
    "Time complexity: $O(1)$\n",
    "\n",
    "Space complexity: $O(1)$ (Only if the size of the hash table donesn't need to expand)"
   ]
  },
  {
   "cell_type": "code",
   "execution_count": 9,
   "id": "889fab8f",
   "metadata": {},
   "outputs": [
    {
     "data": {
      "text/plain": [
       "{'a': 1, 'b': 2, 'c': 1, 'd': 4}"
      ]
     },
     "execution_count": 9,
     "metadata": {},
     "output_type": "execute_result"
    }
   ],
   "source": [
    "# Insert (only if the key doesn't exist in the dictionary)\n",
    "dic['d'] = 4\n",
    "dic"
   ]
  },
  {
   "cell_type": "code",
   "execution_count": 10,
   "id": "54a33f9d",
   "metadata": {},
   "outputs": [
    {
     "data": {
      "text/plain": [
       "{'a': 1, 'b': 2, 'c': 1, 'd': 5}"
      ]
     },
     "execution_count": 10,
     "metadata": {},
     "output_type": "execute_result"
    }
   ],
   "source": [
    "# Update\n",
    "dic['d'] = 5\n",
    "dic"
   ]
  },
  {
   "cell_type": "markdown",
   "id": "50808aa9",
   "metadata": {},
   "source": [
    "# Traverse through a dictionary \n",
    "Time complexity: $O(n)$\n",
    "\n",
    "Space complexity: $O(1)$"
   ]
  },
  {
   "cell_type": "code",
   "execution_count": 12,
   "id": "41a9ff3f",
   "metadata": {},
   "outputs": [
    {
     "name": "stdout",
     "output_type": "stream",
     "text": [
      "a: 1\n",
      "b: 2\n",
      "c: 1\n",
      "d: 5\n"
     ]
    }
   ],
   "source": [
    "def traverse(dic):\n",
    "    for key in dic:\n",
    "        print(f'{key}: {dic[key]}')\n",
    "        \n",
    "traverse(dic)"
   ]
  },
  {
   "cell_type": "markdown",
   "id": "2894e2b0",
   "metadata": {},
   "source": [
    "# Search in a dictionary \n",
    "Time complexity: $O(n)$\n",
    "\n",
    "Space complexity: $O(1)$"
   ]
  },
  {
   "cell_type": "code",
   "execution_count": 14,
   "id": "557ab656",
   "metadata": {},
   "outputs": [
    {
     "data": {
      "text/plain": [
       "('a', 1)"
      ]
     },
     "execution_count": 14,
     "metadata": {},
     "output_type": "execute_result"
    }
   ],
   "source": [
    "def search(dic, value):\n",
    "    for key in dic:\n",
    "        if dic[key] == value:\n",
    "            return key, value\n",
    "    return -1\n",
    "\n",
    "search(dic, 1)"
   ]
  },
  {
   "cell_type": "markdown",
   "id": "e137976f",
   "metadata": {},
   "source": [
    "# Delete elements from a dictionary \n",
    "Time complexity: $O(n)$ (Delete n elements)\n",
    "\n",
    "Space complexity: $O(1)$"
   ]
  },
  {
   "cell_type": "code",
   "execution_count": 18,
   "id": "55937236",
   "metadata": {},
   "outputs": [
    {
     "data": {
      "text/plain": [
       "{'a': 1, 'b': 2, 'c': 1}"
      ]
     },
     "execution_count": 18,
     "metadata": {},
     "output_type": "execute_result"
    }
   ],
   "source": [
    "def delete(dic, key):\n",
    "    dic.pop(key, None) # Return None if the key doesn't exist in the dictionary\n",
    "    return dic\n",
    "\n",
    "delete(dic, 'f')"
   ]
  }
 ],
 "metadata": {
  "kernelspec": {
   "display_name": "Python 3 (ipykernel)",
   "language": "python",
   "name": "python3"
  },
  "language_info": {
   "codemirror_mode": {
    "name": "ipython",
    "version": 3
   },
   "file_extension": ".py",
   "mimetype": "text/x-python",
   "name": "python",
   "nbconvert_exporter": "python",
   "pygments_lexer": "ipython3",
   "version": "3.11.5"
  }
 },
 "nbformat": 4,
 "nbformat_minor": 5
}
