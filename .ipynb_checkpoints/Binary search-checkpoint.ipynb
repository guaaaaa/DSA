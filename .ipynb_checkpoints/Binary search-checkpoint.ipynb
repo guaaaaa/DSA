{
 "cells": [
  {
   "cell_type": "markdown",
   "id": "2760e35d",
   "metadata": {},
   "source": [
    "# General strategies\n",
    "\n",
    "1. Identify input and output\n",
    "2. Coming up with some input/output values that could cover edge cases\n",
    "3. Come up with solution using inputs. First in statement, then code\n",
    "4. Test algorithm complexity\n",
    "5. Improve complexity and repeat from step 3"
   ]
  },
  {
   "cell_type": "markdown",
   "id": "145603fb",
   "metadata": {},
   "source": [
    "# Sample problem\n",
    "QUESTION 1: Alice has some cards with numbers written on them. She arranges the cards in decreasing order, and lays them out face down in a sequence on a table. She challenges Bob to pick out the card containing a given number by turning over as few cards as possible. Write a function to help Bob locate the card."
   ]
  },
  {
   "cell_type": "markdown",
   "id": "674bb426",
   "metadata": {},
   "source": [
    "## 1. Identify input and output\n",
    "Create skeleton function"
   ]
  },
  {
   "cell_type": "code",
   "execution_count": null,
   "id": "3edea7a3",
   "metadata": {},
   "outputs": [],
   "source": [
    "def locate_card(cards, query):\n",
    "    pass"
   ]
  },
  {
   "cell_type": "markdown",
   "id": "444f0a1f",
   "metadata": {},
   "source": [
    "## 2. Create test cases\n",
    "\n",
    "Make each test case a dict with an input and output as keys\n",
    "The value correspond to input is another dict, with all input variables as keys"
   ]
  },
  {
   "cell_type": "code",
   "execution_count": 4,
   "id": "75b75651",
   "metadata": {},
   "outputs": [],
   "source": [
    "cases = []\n",
    "\n",
    "case1 = {'input' : \n",
    "            {'cards' : [100, 34, 31, 12, 9, 5, 2, 1], \n",
    "             'query' : 31}, \n",
    "        'output' : 2\n",
    "       }\n",
    "\n",
    "cases.append(case1)"
   ]
  },
  {
   "cell_type": "markdown",
   "id": "fa5587ff",
   "metadata": {},
   "source": [
    "Pass down test case values into the function"
   ]
  },
  {
   "cell_type": "code",
   "execution_count": null,
   "id": "bbaf9e0d",
   "metadata": {},
   "outputs": [],
   "source": [
    "locate_card(**case1['input']) == case1['output']"
   ]
  },
  {
   "cell_type": "markdown",
   "id": "5f2d1376",
   "metadata": {},
   "source": [
    "Think of all possible cases\n",
    "1. The number query occurs somewhere in the middle of the list cards.\n",
    "2. query is the first element in cards.\n",
    "3. query is the last element in cards.\n",
    "4. The list cards contains just one element, which is query.\n",
    "5. The list cards does not contain number query.\n",
    "6. The list cards is empty.\n",
    "7. The list cards contains repeating numbers.\n",
    "8. The number query occurs at more than one position in cards."
   ]
  },
  {
   "cell_type": "code",
   "execution_count": 5,
   "id": "2c495b4e",
   "metadata": {},
   "outputs": [],
   "source": [
    "# 3\n",
    "case2 = {'input' : \n",
    "            {'cards' : [100, 34, 31, 12, 9, 5, 2, 1], \n",
    "             'query' : 1}, \n",
    "        'output' : 7\n",
    "       }\n",
    "cases.append(case2)\n",
    "\n",
    "# 4\n",
    "case3 = {'input' : \n",
    "            {'cards' : [1], \n",
    "             'query' : 1}, \n",
    "        'output' : 0\n",
    "       }\n",
    "cases.append(case3)\n",
    "\n",
    "# 5\n",
    "case4 = {'input' : \n",
    "            {'cards' : [3, 1], \n",
    "             'query' : 2}, \n",
    "        'output' : -1\n",
    "       }\n",
    "cases.append(case4)\n",
    "\n",
    "#6\n",
    "case5 = {\n",
    "    'input': {\n",
    "        'cards': [],\n",
    "        'query': 7\n",
    "    },\n",
    "        'output': -1\n",
    "    }\n",
    "cases.append(case5)\n",
    "    \n",
    "#7\n",
    "case6 = {\n",
    "    'input': {\n",
    "        'cards': [8, 8, 6, 6, 6, 6, 6, 3, 2, 2, 2, 0, 0, 0],\n",
    "        'query': 3\n",
    "    },\n",
    "        'output': 7\n",
    "    }\n",
    "cases.append(case6)\n",
    "    \n",
    "#8\n",
    "case7 = {\n",
    "    'input': {\n",
    "        'cards': [8, 8, 6, 6, 6, 6, 6, 6, 3, 2, 2, 2, 0, 0, 0],\n",
    "        'query': 6\n",
    "    },\n",
    "        'output': 2\n",
    "    }\n",
    "cases.append(case7)"
   ]
  },
  {
   "cell_type": "code",
   "execution_count": 6,
   "id": "861685c4",
   "metadata": {},
   "outputs": [
    {
     "name": "stdout",
     "output_type": "stream",
     "text": [
      "[{'input': {'cards': [100, 34, 31, 12, 9, 5, 2, 1], 'query': 31}, 'output': 2}, {'input': {'cards': [100, 34, 31, 12, 9, 5, 2, 1], 'query': 1}, 'output': 7}, {'input': {'cards': [1], 'query': 1}, 'output': 0}, {'input': {'cards': [3, 1], 'query': 2}, 'output': -1}, {'input': {'cards': [], 'query': 7}, 'output': -1}, {'input': {'cards': [8, 8, 6, 6, 6, 6, 6, 3, 2, 2, 2, 0, 0, 0], 'query': 3}, 'output': 7}, {'input': {'cards': [8, 8, 6, 6, 6, 6, 6, 6, 3, 2, 2, 2, 0, 0, 0], 'query': 6}, 'output': 2}]\n"
     ]
    }
   ],
   "source": [
    "print(cases)"
   ]
  },
  {
   "cell_type": "markdown",
   "id": "26b68786",
   "metadata": {},
   "source": [
    "## Linear Search\n",
    "Check every single item in the list until the final value is found"
   ]
  },
  {
   "cell_type": "code",
   "execution_count": null,
   "id": "4f00588c",
   "metadata": {},
   "outputs": [],
   "source": [
    "import time\n",
    "start_time = time.time()\n",
    "n = 1\n",
    "def locate_card(cards, query):\n",
    "    position = 0\n",
    "    if len(cards) == 0:\n",
    "        return -1\n",
    "    else:\n",
    "        for numbers in cards:\n",
    "            if numbers == query:\n",
    "                return position\n",
    "            elif position == len(cards)-1:\n",
    "                return -1\n",
    "\n",
    "            else:\n",
    "                position +=1\n",
    "            \n",
    "result = locate_card(cases[n]['input']['cards'], cases[n]['input']['query'])\n",
    "print(result==cases[n]['output'])\n",
    "print(\"--- %s seconds ---\" % (time.time() - start_time))"
   ]
  },
  {
   "cell_type": "markdown",
   "id": "b55c8654",
   "metadata": {},
   "source": [
    "## Complexity of Linear Search\n",
    "Time complexity: cN.\n",
    " - c: constant time to process each iteration\n",
    " - N: size of input\n",
    " \n",
    "Space complexity: c\n",
    " - c: constant independent from N (c = 1 since only 1 variable is used)"
   ]
  },
  {
   "cell_type": "markdown",
   "id": "7e26bbcf",
   "metadata": {},
   "source": [
    "# Binary serach\n",
    "\n",
    "If the list is in order, check from the middle and eliminate half, repeat by checking the other half until the solution is found"
   ]
  },
  {
   "cell_type": "code",
   "execution_count": null,
   "id": "3e78ce43",
   "metadata": {},
   "outputs": [],
   "source": [
    "import time\n",
    "start_time = time.time()\n",
    "\n",
    "n = 1\n",
    "def locate_card(cards, query):\n",
    "    low_index = 0\n",
    "    high_index = len(cards)-1\n",
    "    \n",
    "    if len(cards) == 0:\n",
    "        return -1\n",
    "    else:\n",
    "        while low_index <= high_index:\n",
    "            mid_index = (low_index + high_index)//2\n",
    "            if cards[mid_index] == query:\n",
    "                if cards[mid_index-1] == query:\n",
    "                    high_index = mid_index-1\n",
    "                else:\n",
    "                    return mid_index\n",
    "            elif cards[mid_index] < query:\n",
    "                high_index = mid_index-1\n",
    "            elif cards[mid_index] > query:\n",
    "                low_index = mid_index+1\n",
    "        return -1\n",
    "    \n",
    "            \n",
    "result = locate_card(cases[n]['input']['cards'], cases[n]['input']['query'])\n",
    "print(result==cases[n]['output'])\n",
    "print(\"--- %s seconds ---\" % (time.time() - start_time))"
   ]
  },
  {
   "cell_type": "markdown",
   "id": "882ca14d",
   "metadata": {},
   "source": [
    "## Complexity for binary search\n",
    "Time complexity: O(log(N))\n",
    "\n",
    "Space complexity: O(1)"
   ]
  },
  {
   "cell_type": "markdown",
   "id": "41e14a50",
   "metadata": {},
   "source": [
    "# Generic binary search strategies\n",
    "1. Find a condiction to determine whether the wanted term is in front or after a position\n",
    "2. Locate the midpoint\n",
    "3. If the midpoint is the answer, return it\n",
    "4. If the answer lies before/after the midpoint, repeat the search in front/after the midpoint"
   ]
  },
  {
   "cell_type": "code",
   "execution_count": null,
   "id": "616963b2",
   "metadata": {},
   "outputs": [],
   "source": [
    "def binary_search(lo, hi, condition):\n",
    "    \"\"\"TODO - add docs\"\"\"\n",
    "    while lo <= hi:\n",
    "        mid = (lo + hi) // 2\n",
    "        result = condition(mid)\n",
    "        if result == 'found':\n",
    "            return mid\n",
    "        elif result == 'left':\n",
    "            hi = mid - 1\n",
    "        else:\n",
    "            lo = mid + 1\n",
    "    return -1"
   ]
  },
  {
   "cell_type": "markdown",
   "id": "57ce9625",
   "metadata": {},
   "source": [
    "# More examples\n",
    "1. Given an array of integers nums which is sorted in ascending order, and an integer target, write a function to search target in nums. If target exists, then return its index. Otherwise, return -1."
   ]
  },
  {
   "cell_type": "code",
   "execution_count": null,
   "id": "505a5bf7",
   "metadata": {},
   "outputs": [],
   "source": [
    "class Solution:\n",
    "    def search(self, nums: List[int], target: int) -> int:\n",
    "\n",
    "        low_index = 0\n",
    "        high_index = len(nums) - 1\n",
    "        \n",
    "        while low_index <= high_index:\n",
    "            mid_index = (low_index + high_index) //2\n",
    "            if nums[mid_index] == target:\n",
    "                return mid_index\n",
    "            elif nums[mid_index] > target:\n",
    "                high_index = mid_index - 1\n",
    "            elif nums[mid_index] < target:\n",
    "                low_index = mid_index + 1\n",
    "        return -1"
   ]
  },
  {
   "cell_type": "markdown",
   "id": "06be8c05",
   "metadata": {},
   "source": [
    "2. Given an array nums sorted in non-decreasing order, return the maximum between the number of positive integers and the number of negative integers. In other words, if the number of positive integers in nums is pos and the number of negative integers is neg, then return the maximum of pos and neg. Note that 0 is neither positive nor negative."
   ]
  },
  {
   "cell_type": "code",
   "execution_count": null,
   "id": "89eb5945",
   "metadata": {},
   "outputs": [],
   "source": [
    "class Solution:\n",
    "    def maximumCount(self, nums: List[int]) -> int:\n",
    "        positive = self.find_positive(nums)\n",
    "        negative = self.find_negative(nums)\n",
    "        return max(positive, negative)\n",
    "\n",
    "\n",
    "    def find_positive(self, nums):\n",
    "        low_index = 0\n",
    "        high_index = len(nums)-1\n",
    "\n",
    "        while low_index <= high_index:\n",
    "            mid_index = (low_index + high_index) // 2\n",
    "            \n",
    "            if nums[mid_index] > 0:\n",
    "                high_index = mid_index -1\n",
    "            else:\n",
    "                low_index = mid_index + 1\n",
    "        # low_index always gives the first positive position\n",
    "        return len(nums) - low_index\n",
    "\n",
    "    def find_negative(self, nums):\n",
    "        low_index = 0\n",
    "        high_index = len(nums)-1\n",
    "\n",
    "        while low_index <= high_index:\n",
    "            mid_index = (low_index + high_index) // 2\n",
    "            if nums[mid_index] < 0:\n",
    "                low_index = mid_index +1\n",
    "            else:\n",
    "                high_index = mid_index -1\n",
    "        # low_index always gives the first non-negative position\n",
    "        return low_index"
   ]
  },
  {
   "cell_type": "markdown",
   "id": "83af05b5",
   "metadata": {},
   "source": [
    "3. You are given list of numbers, obtained by rotating a sorted list an unknown number of times. Write a function to determine the minimum number of times the original sorted list was rotated to obtain the given list. Your function should have the worst-case complexity of O(log N), where N is the length of the list. You can assume that all the numbers in the list are unique.\n",
    "\n",
    "    Example: The list [5, 6, 9, 0, 2, 3, 4] was obtained by rotating the sorted list [0, 2, 3, 4, 5, 6, 9] 3 times.\n",
    "\n",
    "    We define \"rotating a list\" as removing the last element of the list and adding it before the first element. E.g. rotating the list [3, 2, 4, 1] produces [1, 3, 2, 4].\n",
    "\n",
    "    \"Sorted list\" refers to a list where the elements are arranged in the increasing order e.g. [1, 3, 5, 7]."
   ]
  },
  {
   "cell_type": "code",
   "execution_count": 41,
   "id": "b085600f",
   "metadata": {},
   "outputs": [
    {
     "name": "stdout",
     "output_type": "stream",
     "text": [
      "True\n"
     ]
    }
   ],
   "source": [
    "test = [\n",
    "    {'input': {'nums': [19, 25, 29, 3, 5, 6, 7, 9, 11, 14]},'output': 3},\n",
    "    {'input': {'nums': [4, 5, 6, 7, 8, 1, 2, 3]},'output': 5},\n",
    "    {'input': {'nums': [1, 2, 3]},'output': 0},\n",
    "    {'input': {'nums': []},'output': -1},\n",
    "    {'input': {'nums': [1]},'output': 0}\n",
    "]\n",
    "\n",
    "n = 0\n",
    "def rotate(nums):\n",
    "    if len(nums) == 0:\n",
    "        return -1\n",
    "    else:\n",
    "        low_index = 0\n",
    "        high_index = len(nums)-1\n",
    "        first = nums[0]\n",
    "\n",
    "        while low_index <= high_index:\n",
    "            mid_index = (low_index + high_index) // 2\n",
    "            if nums[mid_index] < nums[0]:\n",
    "                high_index = mid_index -1\n",
    "            elif nums[mid_index] > nums[0]:\n",
    "                low_index = mid_index + 1\n",
    "            else:\n",
    "                return 0\n",
    "        if low_index == len(nums):\n",
    "            return 0\n",
    "        else:\n",
    "            return low_index\n",
    "        \n",
    "\n",
    "\n",
    "result = rotate(test[n]['input']['nums'])\n",
    "\n",
    "print(result == test[n]['output'])"
   ]
  }
 ],
 "metadata": {
  "kernelspec": {
   "display_name": "Python 3 (ipykernel)",
   "language": "python",
   "name": "python3"
  },
  "language_info": {
   "codemirror_mode": {
    "name": "ipython",
    "version": 3
   },
   "file_extension": ".py",
   "mimetype": "text/x-python",
   "name": "python",
   "nbconvert_exporter": "python",
   "pygments_lexer": "ipython3",
   "version": "3.11.5"
  }
 },
 "nbformat": 4,
 "nbformat_minor": 5
}
