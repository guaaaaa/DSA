{
 "cells": [
  {
   "cell_type": "markdown",
   "id": "6238617d",
   "metadata": {},
   "source": [
    "# Create array with n elements\n",
    "Time complexity: $O(n)$\n",
    "\n",
    "Space complexity: $O(n)$"
   ]
  },
  {
   "cell_type": "code",
   "execution_count": 1,
   "id": "dcc41ca4",
   "metadata": {},
   "outputs": [
    {
     "name": "stdout",
     "output_type": "stream",
     "text": [
      "array('i', [1, 2, 3])\n"
     ]
    }
   ],
   "source": [
    "# Array model\n",
    "import array\n",
    "\n",
    "arr1 = array.array('i', [1, 2, 3]) # ('type', [array])\n",
    "print(arr1)"
   ]
  },
  {
   "cell_type": "markdown",
   "id": "e384421e",
   "metadata": {},
   "source": [
    "# Insert into an array with n elements\n",
    "Time complexity: $O(n)$\n",
    "\n",
    "Space complexity: $O(1)$"
   ]
  },
  {
   "cell_type": "code",
   "execution_count": 2,
   "id": "50e57790",
   "metadata": {},
   "outputs": [
    {
     "name": "stdout",
     "output_type": "stream",
     "text": [
      "array('i', [1, 2, 3, 4])\n"
     ]
    }
   ],
   "source": [
    "arr1.insert(3, 4) # (index, value)\n",
    "print(arr1)"
   ]
  },
  {
   "cell_type": "markdown",
   "id": "4f3a0da0",
   "metadata": {},
   "source": [
    "# Traverse an array with n elements\n",
    "Time complexity: O(n)\n",
    "\n",
    "Space complexity: O(1)"
   ]
  },
  {
   "cell_type": "code",
   "execution_count": 7,
   "id": "055b6268",
   "metadata": {},
   "outputs": [
    {
     "name": "stdout",
     "output_type": "stream",
     "text": [
      "1\n",
      "2\n",
      "3\n",
      "4\n"
     ]
    }
   ],
   "source": [
    "def traverse(arr):\n",
    "    for i in arr:\n",
    "        print(i)\n",
    "\n",
    "traverse(arr1)"
   ]
  },
  {
   "cell_type": "markdown",
   "id": "d5d95540",
   "metadata": {},
   "source": [
    "# Access elements in an array\n",
    "Time complexity: $O(1)$\n",
    "    \n",
    "Space complexity: $O(1)$"
   ]
  },
  {
   "cell_type": "code",
   "execution_count": 18,
   "id": "b392e056",
   "metadata": {},
   "outputs": [
    {
     "name": "stdout",
     "output_type": "stream",
     "text": [
      "2\n",
      "1\n",
      "Index error\n"
     ]
    }
   ],
   "source": [
    "def access(arr, index):\n",
    "    if index > len(arr) or index < -len(arr):\n",
    "        print(\"Index error\")\n",
    "    else:\n",
    "        print(arr[index])\n",
    "\n",
    "access(arr1, 1)\n",
    "access(arr1, -4)\n",
    "access(arr1, 6)"
   ]
  },
  {
   "cell_type": "markdown",
   "id": "8f6caa09",
   "metadata": {},
   "source": [
    "# Search for an element within an array (linear search)\n",
    "Time complexity: $O(n)$\n",
    "\n",
    "Space complexity: $O(1)$"
   ]
  },
  {
   "cell_type": "code",
   "execution_count": 22,
   "id": "b623196d",
   "metadata": {},
   "outputs": [
    {
     "name": "stdout",
     "output_type": "stream",
     "text": [
      "2\n",
      "-1\n"
     ]
    }
   ],
   "source": [
    "def linear_search(arr, target):\n",
    "    for i in range(len(arr)):\n",
    "        if arr[i] == target:\n",
    "            return i\n",
    "    return -1\n",
    "\n",
    "print(linear_search(arr1, 3))\n",
    "print(linear_search(arr1, 5))"
   ]
  },
  {
   "cell_type": "markdown",
   "id": "ad10ce45",
   "metadata": {},
   "source": [
    "# Delete element from an array\n",
    "Time complexity: $O(n)$\n",
    "\n",
    "Space complexity: $O(1)$"
   ]
  },
  {
   "cell_type": "code",
   "execution_count": 23,
   "id": "93904afe",
   "metadata": {},
   "outputs": [
    {
     "data": {
      "text/plain": [
       "array('i', [1, 2, 3])"
      ]
     },
     "execution_count": 23,
     "metadata": {},
     "output_type": "execute_result"
    }
   ],
   "source": [
    "def delete(arr, value):\n",
    "    arr.remove(value)\n",
    "    return arr\n",
    "delete(arr1, 4)"
   ]
  },
  {
   "cell_type": "markdown",
   "id": "efaa243f",
   "metadata": {},
   "source": [
    "# Create 2D array with r rows and c columns\n",
    "Time complexity: $O(r * c)$\n",
    "\n",
    "Space complexity: $O(r * c)$"
   ]
  },
  {
   "cell_type": "code",
   "execution_count": 33,
   "id": "4700d028",
   "metadata": {},
   "outputs": [
    {
     "name": "stdout",
     "output_type": "stream",
     "text": [
      "[[1 2]\n",
      " [3 4]]\n"
     ]
    }
   ],
   "source": [
    "import numpy as np\n",
    "\n",
    "arr2 = np.array([[1, 2], [3, 4]])\n",
    "print(arr2)"
   ]
  },
  {
   "cell_type": "markdown",
   "id": "0c1e9ce1",
   "metadata": {},
   "source": [
    "# Insert a row or a column to a 2D array\n",
    "Time complexity: $O(r * c)$\n",
    "\n",
    "Space complexity: depends on the size of the inserted array"
   ]
  },
  {
   "cell_type": "code",
   "execution_count": 34,
   "id": "bccf4c19",
   "metadata": {},
   "outputs": [
    {
     "name": "stdout",
     "output_type": "stream",
     "text": [
      "[[1 2 7]\n",
      " [3 4 8]\n",
      " [5 6 9]]\n"
     ]
    }
   ],
   "source": [
    "arr2 = np.insert(arr2, 2, [5, 6], axis=0) #(array, r/c index, values, axis)\n",
    "arr2 = np.insert(arr2, 2, [7, 8, 9], axis=1)\n",
    "print(arr2)"
   ]
  },
  {
   "cell_type": "markdown",
   "id": "cc874472",
   "metadata": {},
   "source": [
    "# Access an element in a 2D array\n",
    "Time complexity: $O(1)$\n",
    "\n",
    "Space complexity: $O(1)$"
   ]
  },
  {
   "cell_type": "code",
   "execution_count": 35,
   "id": "14529184",
   "metadata": {},
   "outputs": [
    {
     "data": {
      "text/plain": [
       "2"
      ]
     },
     "execution_count": 35,
     "metadata": {},
     "output_type": "execute_result"
    }
   ],
   "source": [
    "arr2[0][1] #[r][c]"
   ]
  },
  {
   "cell_type": "markdown",
   "id": "111d7613",
   "metadata": {},
   "source": [
    "# Traverse a 2D array with r rows and c columns\n",
    "Time complexity: $O(r * c)$\n",
    "\n",
    "Space complexity: $O(1)$"
   ]
  },
  {
   "cell_type": "code",
   "execution_count": 39,
   "id": "9a50ddf9",
   "metadata": {},
   "outputs": [
    {
     "name": "stdout",
     "output_type": "stream",
     "text": [
      "1\n",
      "2\n",
      "7\n",
      "3\n",
      "4\n",
      "8\n",
      "5\n",
      "6\n",
      "9\n"
     ]
    }
   ],
   "source": [
    "r, c = arr2.shape\n",
    "\n",
    "for i in range(r):\n",
    "    for j in range(c):\n",
    "        print(arr2[i][j])"
   ]
  },
  {
   "cell_type": "markdown",
   "id": "bcb540ac",
   "metadata": {},
   "source": [
    "# Search in a 2D array with r rows and c columns (linear search)\n",
    "Time complexity: $O(r * c)$\n",
    "\n",
    "Space complexity: $O(1)$"
   ]
  },
  {
   "cell_type": "code",
   "execution_count": 41,
   "id": "aaa1f619",
   "metadata": {},
   "outputs": [
    {
     "data": {
      "text/plain": [
       "(2, 2)"
      ]
     },
     "execution_count": 41,
     "metadata": {},
     "output_type": "execute_result"
    }
   ],
   "source": [
    "target = 9\n",
    "def twoDserach(arr, r, c, tar):\n",
    "    for i in range(r):\n",
    "        for j in range(c):\n",
    "            if arr[i][j] == tar:\n",
    "                return (i, j)\n",
    "    return -1\n",
    "\n",
    "twoDserach(arr2, r, c, target)"
   ]
  },
  {
   "cell_type": "markdown",
   "id": "05bbb280",
   "metadata": {},
   "source": [
    "# Delete a row or column in a 2D array\n",
    "Time complexity: $O(r * c)$\n",
    "\n",
    "Space complexity: $O(r * c)$ (requires copy)"
   ]
  },
  {
   "cell_type": "code",
   "execution_count": 42,
   "id": "6a87dd34",
   "metadata": {},
   "outputs": [
    {
     "data": {
      "text/plain": [
       "array([[2, 7],\n",
       "       [4, 8],\n",
       "       [6, 9]])"
      ]
     },
     "execution_count": 42,
     "metadata": {},
     "output_type": "execute_result"
    }
   ],
   "source": [
    "arr2 = np.delete(arr2, 0, axis=1)\n",
    "arr2"
   ]
  },
  {
   "cell_type": "code",
   "execution_count": 43,
   "id": "71c4192d",
   "metadata": {},
   "outputs": [
    {
     "data": {
      "text/plain": [
       "[1, 3, 5]"
      ]
     },
     "execution_count": 43,
     "metadata": {},
     "output_type": "execute_result"
    }
   ],
   "source": [
    "arr3 = [1, 2, 3, 4, 5]\n",
    "\n",
    "arr3[::2]"
   ]
  },
  {
   "cell_type": "code",
   "execution_count": null,
   "id": "bf56ae6f",
   "metadata": {},
   "outputs": [],
   "source": []
  }
 ],
 "metadata": {
  "kernelspec": {
   "display_name": "Python 3 (ipykernel)",
   "language": "python",
   "name": "python3"
  },
  "language_info": {
   "codemirror_mode": {
    "name": "ipython",
    "version": 3
   },
   "file_extension": ".py",
   "mimetype": "text/x-python",
   "name": "python",
   "nbconvert_exporter": "python",
   "pygments_lexer": "ipython3",
   "version": "3.11.5"
  }
 },
 "nbformat": 4,
 "nbformat_minor": 5
}
