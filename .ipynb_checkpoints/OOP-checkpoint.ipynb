{
 "cells": [
  {
   "cell_type": "markdown",
   "id": "91fd96d2",
   "metadata": {},
   "source": [
    "# OOP\n",
    "Object-oriented programming (OOP) is a programming paradigm based on the concept of objects that can interact with each other, where each object can have their own characteristics (attributes) and behaviour (methods)\n",
    "\n",
    "The key building blocks of OOP are:\n",
    "* Classes - user-defined data types that act as the blueprint for objects, attributes, and methods.\n",
    "\n",
    "\n",
    "* Objects - instances of a class with specifically defined data and methods\n",
    "\n",
    "\n",
    "* Methods - functions that are defined inside a class that an object can perform\n",
    "\n",
    "\n",
    "* Attributes - defined in the class and represent the characteristics of an object"
   ]
  },
  {
   "cell_type": "markdown",
   "id": "1cb6511c",
   "metadata": {},
   "source": [
    "# Define a class"
   ]
  },
  {
   "cell_type": "code",
   "execution_count": 1,
   "id": "1b3e6c90",
   "metadata": {},
   "outputs": [
    {
     "name": "stdout",
     "output_type": "stream",
     "text": [
      "A\n",
      "1\n"
     ]
    }
   ],
   "source": [
    "class Person: # a class is the sturcture of a type of objects\n",
    "    def __init__(self, name, age): \n",
    "        # init function is called when the object is crerated\n",
    "        # self refers to the specific object, P1 in this case\n",
    "        self.name = name \n",
    "        # the first \"name\" is the feature applied to all objects with this class\n",
    "        # the second name is the actual value passed from the parameter(\"A\")\n",
    "        # P1.name = name\n",
    "        self.age = age\n",
    "        \n",
    "    def printf(self):\n",
    "        print(self.name)\n",
    "        print(self.age)\n",
    "        \n",
    "P1 = Person(\"A\",1) # creating a specific object\n",
    "\n",
    "P1.printf()\n",
    "        "
   ]
  },
  {
   "cell_type": "code",
   "execution_count": null,
   "id": "d0f9b726",
   "metadata": {},
   "outputs": [],
   "source": []
  }
 ],
 "metadata": {
  "kernelspec": {
   "display_name": "Python 3 (ipykernel)",
   "language": "python",
   "name": "python3"
  },
  "language_info": {
   "codemirror_mode": {
    "name": "ipython",
    "version": 3
   },
   "file_extension": ".py",
   "mimetype": "text/x-python",
   "name": "python",
   "nbconvert_exporter": "python",
   "pygments_lexer": "ipython3",
   "version": "3.11.5"
  }
 },
 "nbformat": 4,
 "nbformat_minor": 5
}
