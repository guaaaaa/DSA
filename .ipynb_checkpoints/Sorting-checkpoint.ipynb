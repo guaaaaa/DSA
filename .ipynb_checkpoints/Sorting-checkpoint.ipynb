{
 "cells": [
  {
   "cell_type": "markdown",
   "id": "22999566",
   "metadata": {},
   "source": [
    "# Sorting\n",
    "Sorting arranges data in ascending or descending order\n",
    "\n",
    "## Type of sorting algorithms\n",
    "* Bubble sort\n",
    "* Selection sort\n",
    "* Insertion sort\n",
    "* Bucket sort\n",
    "* Merge sort\n",
    "* Quick sort\n",
    "* Heap sort\n",
    "\n",
    "## Terminologies\n",
    "* In place sorting: the algorithm sorts by changing the input ($O(1)$ space complexity)\n",
    "* Out place sorting: the algorithm sorts by creating a new list instead of modifying the input  ($O(n)$ space complexity)\n",
    "\n",
    "* Stable sorting: the algorithm maintains the relative order of records with equal values (eg. If two items A and B have the same value, and A appears before B in the input, A will also appear before B in the output)\n",
    "\n",
    "* Unstable sorting: the algorithm does not guarantee the relative order of records with equal keys (eg. If two items A and B have the same value, they may not retain their original order after sorting.)\n",
    "<br>\n",
    "* Increasing order: the next element is always greater than its previous one (eg. 1, 3, 5, 7)\n",
    "\n",
    "* Decreasing order: the next element is always less than its previous one (eg. 7, 5, 3, 1)\n",
    "\n",
    "* Non increasing order: the next element is always less than or equal to its previous one (eg. 7, 5, 5, 1)\n",
    "\n",
    "* Non decreasing order: the next element is always greater than or equal to its previous one (eg. 1, 5, 5, 7)\n",
    "\n",
    "Non increasing and non decreasing order indicates there can be repeated values in the input"
   ]
  },
  {
   "cell_type": "markdown",
   "id": "524c454c",
   "metadata": {},
   "source": [
    "## Bubble sort\n",
    "Bubble sort repeatedly compares adjacent elements and swaps them if they are in the wrong order. It sorts the input in multiple passes, in the $k$th pass (one iteration over the input), the $k$th largest elements will be moved to the correct position ($k$th position from the end). Essentially, the algorithm sorts one element at a time\n",
    "\n",
    "<img src=\"https://www.productplan.com/uploads/bubble-sort-1024x683-2.png\" width=500>\n",
    "\n",
    "* Pros: in place sorting, no additional memeory required, stable sorting\n",
    "\n",
    "* Cons: slow run time\n",
    "\n",
    "Time complexity: $O(n^2)$\n",
    "\n",
    "Space complexity: $O(1)$"
   ]
  },
  {
   "cell_type": "code",
   "execution_count": 8,
   "id": "546a4e09",
   "metadata": {},
   "outputs": [],
   "source": [
    "def bubble_sort(arr):\n",
    "    # For an array of size n, loop n path\n",
    "    for i in range(len(arr)):\n",
    "        swap = False\n",
    "        \n",
    "        # Loop through the array (the last i elements are already in place, no need to check)\n",
    "        for j in range(len(arr) - i - 1):\n",
    "            \n",
    "            # Compare elements and swap if needed\n",
    "            if (arr[j] > arr[j + 1]):\n",
    "                arr[j + 1], arr[j] = arr[j], arr[j + 1]\n",
    "                swap = True\n",
    "            \n",
    "        # No need to loop if nothing is swapped\n",
    "        if swap == False:\n",
    "            break\n",
    "    return arr"
   ]
  },
  {
   "cell_type": "code",
   "execution_count": 9,
   "id": "5181c51d",
   "metadata": {},
   "outputs": [
    {
     "data": {
      "text/plain": [
       "[0, 1, 3, 5, 6, 7, 9]"
      ]
     },
     "execution_count": 9,
     "metadata": {},
     "output_type": "execute_result"
    }
   ],
   "source": [
    "arr = [3, 6, 5, 0 , 1, 7, 9]\n",
    "bubble_sort(arr)"
   ]
  },
  {
   "cell_type": "markdown",
   "id": "ec75f0da",
   "metadata": {},
   "source": [
    "## Selection sort\n",
    "Selection sort repeatedly finds the smallest element in the unsorted part of the array and swaps it with the first unsorted element. This process continues until the entire array is sorted\n",
    "\n",
    "<img src=\"https://cdn.prod.website-files.com/5d0dc87aac109e1ffdbe379c/609a2e81a308dc3a5eecb963_NeUKp9vgT_QmMWP8e_m9wWLsO62sNRH0xAEzbVf_JnzdK-0oKnK0k1xBwLw7OrXAD6VXGhRSvUDz94woWUgbKf6L0jfPeRV4vaOEHalnixQ_Ll2EjvqXPUQVAKnRpldRH9eKvjq1.png\" width=500>\n",
    "\n",
    "* Pros: in place sorting, no additional memeory required, requires less number of swaps\n",
    "\n",
    "* Cons: unstable sorting, slow run time\n",
    "\n",
    "Time complexity: $O(n^2)$\n",
    "\n",
    "Space complexity: $O(1)$"
   ]
  },
  {
   "cell_type": "code",
   "execution_count": 12,
   "id": "ec22b07d",
   "metadata": {},
   "outputs": [],
   "source": [
    "def selection_sort(arr):\n",
    "    for i in range(len(arr)):\n",
    "        # Set the first element to be the minimum index\n",
    "        min_idx = i\n",
    "        \n",
    "        # Loop through the unsorted part of the array\n",
    "        for j in range(i + 1, len(arr)):\n",
    "            \n",
    "            # If an element in the unsorted part is less than the first element, update the index\n",
    "            if (arr[min_idx] > arr[j]):\n",
    "                min_idx = j\n",
    "        \n",
    "        # Perform swap\n",
    "        arr[i], arr[min_idx] = arr[min_idx], arr[i]\n",
    "    \n",
    "    return arr"
   ]
  },
  {
   "cell_type": "code",
   "execution_count": 14,
   "id": "6162895d",
   "metadata": {},
   "outputs": [
    {
     "data": {
      "text/plain": [
       "[0, 1, 3, 5, 6, 7, 9]"
      ]
     },
     "execution_count": 14,
     "metadata": {},
     "output_type": "execute_result"
    }
   ],
   "source": [
    "arr = [3, 6, 5, 0 , 1, 7, 9]\n",
    "selection_sort(arr)"
   ]
  },
  {
   "cell_type": "markdown",
   "id": "941cf918",
   "metadata": {},
   "source": [
    "## Insertion sort\n",
    "Insertion sort repeatedly takes the first elements in the unsorted portion of the array and insert it into the correct position in the sorted portion of the array\n",
    "\n",
    "<img src=\"https://media.geeksforgeeks.org/wp-content/uploads/20240802210251/Insertion-sorting.png\" width=500>\n",
    "\n",
    "* Pros: stable sorting, in place sorting, no additional memeory required\n",
    "\n",
    "* Cons: slow run time\n",
    "\n",
    "Time complexity: $O(n^2)$\n",
    "\n",
    "Space complexity: $O(1)$"
   ]
  },
  {
   "cell_type": "code",
   "execution_count": 20,
   "id": "3a56ff9b",
   "metadata": {},
   "outputs": [],
   "source": [
    "def insertion_sort(arr):\n",
    "    # Start looping from the second element\n",
    "    for i in range(1, len(arr)):\n",
    "        val = arr[i]\n",
    "        j = i - 1 # j is the last element of the sorted portion\n",
    "        \n",
    "        # Loop through the sorted portion in reverse order\n",
    "        while j >= 0 and val < arr[j]:\n",
    "            \n",
    "            # If arr[j] is greater than val, shift the value to the right\n",
    "            arr[j + 1] = arr[j]\n",
    "            j -= 1\n",
    "        \n",
    "        # Insert the value when the correct position is found\n",
    "        arr[j + 1] = val\n",
    "    \n",
    "    return arr"
   ]
  },
  {
   "cell_type": "code",
   "execution_count": 21,
   "id": "11b2ef78",
   "metadata": {},
   "outputs": [
    {
     "data": {
      "text/plain": [
       "[0, 1, 3, 5, 6, 7, 9]"
      ]
     },
     "execution_count": 21,
     "metadata": {},
     "output_type": "execute_result"
    }
   ],
   "source": [
    "arr = [3, 6, 5, 0 , 1, 7, 9]\n",
    "insertion_sort(arr)"
   ]
  },
  {
   "cell_type": "markdown",
   "id": "d8b29569",
   "metadata": {},
   "source": [
    "## Bucket sort\n",
    "Bucket sort first divides all elements in the array into multiple buckets. Then, we sort each bucket and merge all bucket together to form the sorted array\n",
    "\n",
    "With the array of length $n$\n",
    "\n",
    "Number of bucket: $\\sqrt{n}$\n",
    "\n",
    "Bucket for an element with value $val$: $ceil(\\frac{val * \\text{number of bucket}}{maxVal})$\n",
    "\n",
    "<img src=\"https://www.growingwiththeweb.com/images/2015/06/29/bucket-sort.svg\" width=500>\n",
    "\n",
    "* Pros: can be stable (depending on the inner sorting algorithm), efficient on uniformly distributed data with known range\n",
    "\n",
    "* Cons: requires knowledge of data range and distirbution, additional space required\n",
    "\n",
    "Time complexity: $O(n^2)$\n",
    "\n",
    "Space complexity: $O(n + k)$ ($k$ is the number of buckets)"
   ]
  },
  {
   "cell_type": "code",
   "execution_count": 40,
   "id": "1d8091aa",
   "metadata": {},
   "outputs": [],
   "source": [
    "import math\n",
    "\n",
    "def bucket_sort(arr):\n",
    "    # Find number of buckets and maxVal in the array\n",
    "    num_bucket = round(math.sqrt(len(arr)))\n",
    "    maxVal = max(arr)\n",
    "    \n",
    "    # Create all empty buckets\n",
    "    buckets = [[] for _ in range(num_bucket)]\n",
    "    \n",
    "    # Add each elements to the appropriate bucket\n",
    "    for i in range(len(arr)):\n",
    "        bucket_idx = math.ceil(arr[i] * num_bucket / maxVal) # Find proper bucket index\n",
    "        buckets[bucket_idx - 1].append(arr[i]) # Add element to the bucket\n",
    "        \n",
    "    print(buckets)\n",
    "    \n",
    "    # Sort each bucket using insertion sort\n",
    "    for i in range(num_bucket):\n",
    "        buckets[i] = insertion_sort(buckets[i])\n",
    "    \n",
    "    # Merge the buckets together\n",
    "    k = 0\n",
    "    \n",
    "    # Loop through each element in every bucket\n",
    "    for i in range(num_bucket):\n",
    "        for j in range(len(buckets[i])):\n",
    "            arr[k] = buckets[i][j] # Update the original list\n",
    "            k += 1\n",
    "    \n",
    "    return arr"
   ]
  },
  {
   "cell_type": "code",
   "execution_count": 39,
   "id": "e0b433c9",
   "metadata": {},
   "outputs": [
    {
     "name": "stdout",
     "output_type": "stream",
     "text": [
      "[[3, 1], [6, 5, 7, 9]]\n"
     ]
    },
    {
     "data": {
      "text/plain": [
       "[1, 3, 5, 6, 7, 9]"
      ]
     },
     "execution_count": 39,
     "metadata": {},
     "output_type": "execute_result"
    }
   ],
   "source": [
    "arr = [3, 6, 5, 1, 7, 9]\n",
    "bucket_sort(arr)"
   ]
  },
  {
   "cell_type": "markdown",
   "id": "53fc6a60",
   "metadata": {},
   "source": [
    "## Merge sort\n",
    "Merge sort uses divide and conquer method, which recursively divides the input array into smallest subarrays and sort those subarrays then merging them back together to obtain the sorted array\n",
    "\n",
    "<img src=\"https://www.programiz.com/sites/tutorial2program/files/merge-sort-example_0.png\" width=500>\n",
    "\n",
    "* Pros: good time complexity, stable sorting\n",
    "\n",
    "* Cons: out place sorting, requires additiona memory\n",
    "\n",
    "Time complexity: $O(n\\log{(n)})$ (dividing the array requires $O(n)$; merging at each level requires time complexity of $O(n)$, $\\log{n}$ levels in total)\n",
    "\n",
    "Space complexity: $O(n)$ (merging requries temporary space of $O(n)$, recursive stack of $O(log(n))$ can be ignored)"
   ]
  },
  {
   "cell_type": "code",
   "execution_count": 47,
   "id": "ddd9e7a9",
   "metadata": {},
   "outputs": [],
   "source": [
    "def merge(l, r): # Takes in 2 sorted array and merge them\\\n",
    "    output = []\n",
    "    i = 0\n",
    "    j = 0\n",
    " \n",
    "    # Loop through 2 array\n",
    "    while i < len(l) and j < len(r):\n",
    "        if l[i] <= r[j]:\n",
    "            output.append(l[i])\n",
    "            i += 1\n",
    "        else:\n",
    "            output.append(r[j])\n",
    "            j += 1\n",
    "    \n",
    "    # Concatenate the remaining array (either l[i:] or r[j:] will be None)\n",
    "    output = output + l[i:] + r[j:]\n",
    "    \n",
    "    return output\n",
    "\n",
    "def merge_sort(arr):\n",
    "    # Base case: if the subarray cannot be divided\n",
    "    if len(arr) <= 1:\n",
    "        return arr\n",
    "    \n",
    "    # Find mid index\n",
    "    mid = len(arr) // 2\n",
    "    \n",
    "    # Recursively break down the array into subarrays\n",
    "    sort_left = merge_sort(arr[:mid])\n",
    "    sort_right = merge_sort(arr[mid:])\n",
    "    \n",
    "    # Merge the sorted arrays\n",
    "    output = merge(sort_left, sort_right)\n",
    "    \n",
    "    return output"
   ]
  },
  {
   "cell_type": "code",
   "execution_count": 49,
   "id": "dd2e3559",
   "metadata": {},
   "outputs": [
    {
     "data": {
      "text/plain": [
       "[1, 2, 3, 4, 5]"
      ]
     },
     "execution_count": 49,
     "metadata": {},
     "output_type": "execute_result"
    }
   ],
   "source": [
    "merge_sort([1, 3, 5, 2, 4])"
   ]
  },
  {
   "cell_type": "markdown",
   "id": "9ce2b94f",
   "metadata": {},
   "source": [
    "## Quick sort\n",
    "Quick sort uses divide and conquer method to repeatedly select a pivot and partition and array into two parts by placing the pivot into its correct position. After one iteration, the pivot is in the correct position, and all elements smaller than the pivot will be on its left, and all elements larger than the pivot will be on its right\n",
    "\n",
    "Choice of pivot\n",
    "1. Always choose the first/last element: potentially ends up in the worst case\n",
    "2. Choose a random element: good since there is no pattern for worst case to occur\n",
    "3. Choose the middle element: ideal for time complexity since it always partition the array into two parts, but median finding takes time\n",
    "\n",
    "<img src=\"https://wat-images.s3.ap-south-1.amazonaws.com/images/course/ci6ldqnqthum/Quick_Sort_0.png\" width=500>\n",
    "\n",
    "* Pros: good time complexity, efficient on large dataset, in place sorting\n",
    "\n",
    "* Cons: non stable sorting, requires additional memory, worst case time complexity of $O(n)$\n",
    "\n",
    "Time complexity: $O(n\\log{(n)})$ \n",
    "- Partition takes $O(n)$, recursive call with depth $\\log n$\n",
    "- Worst case complexity of $O(n^2)$ - if pivot is always the first or last element\n",
    "\n",
    "Space complexity: $O(\\log n)$ \n",
    "- The stack holds the state for the deepest level of recursion, $\\log n$ level total\n",
    "- Worst case complexity of $O(n)$"
   ]
  },
  {
   "cell_type": "code",
   "execution_count": 1,
   "id": "064dbab7",
   "metadata": {},
   "outputs": [],
   "source": [
    "def partition(arr, l, h):\n",
    "    # Take the first element as pivot\n",
    "    pivot = arr[l]\n",
    "    \n",
    "    # idx tracks for the last element that is smaller than the pivot\n",
    "    idx = l\n",
    "    \n",
    "    # Loop through the array\n",
    "    for i in range(l + 1, h + 1):\n",
    "        if arr[i] <= pivot:\n",
    "            # Move to the first elements that's larger than the pivot and then swap\n",
    "            # If the next element is smaller than pivot, it will swap with itself (do nothing and move idx forward)\n",
    "            idx += 1\n",
    "            arr[i], arr[idx] = arr[idx], arr[i]\n",
    "    \n",
    "    # Swap the pivot (If the first element is the smallest element, swap with itself)\n",
    "    arr[l], arr[idx] = arr[idx], arr[l]\n",
    "    \n",
    "    # Return the pivot index\n",
    "    return idx\n",
    "\n",
    "\n",
    "def quick_sort(arr):\n",
    "    if len(arr) <= 1:\n",
    "        return arr\n",
    "    \n",
    "    # Find the pivot index\n",
    "    pivot = partition(arr, 0, len(arr) - 1)\n",
    "    \n",
    "    # Recursive call on the left and the right subarray\n",
    "    sorted_left = quick_sort(arr[:pivot])\n",
    "    sorted_right = quick_sort(arr[pivot + 1:]) # arr[pivot + 1:] returns [] if it's out of range\n",
    "    \n",
    "    return sorted_left + [arr[pivot]] + sorted_right"
   ]
  },
  {
   "cell_type": "code",
   "execution_count": 2,
   "id": "f1943ed1",
   "metadata": {},
   "outputs": [
    {
     "data": {
      "text/plain": [
       "[0, 1, 2, 3, 7, 8, 9, 10]"
      ]
     },
     "execution_count": 2,
     "metadata": {},
     "output_type": "execute_result"
    }
   ],
   "source": [
    "quick_sort([10, 2, 0, 7, 1, 8, 9, 3])"
   ]
  },
  {
   "cell_type": "markdown",
   "id": "9ae7eca5",
   "metadata": {},
   "source": [
    "## Heap sort\n",
    "Heap sort first converts the array into a min or max heap (the convertion happens in place). Then it removes the root node from the heap one by one and replace it with the last node and heapify. The root node is removed in whether ascending or descending order depending on the heap type\n",
    "\n",
    "Heap sort first converts the array into a max heap (for ascending order) or a min heap (for descending order). This conversion happens in place using the heapify process.  Once the heap is built, the root node (largest element in a max heap) is swapped with the last element, effectively placing it in its final sorted position. Then, the heap size is reduced, and heapify is applied to restore the heap structure. This process is repeated until the array is fully sorted\n",
    "\n",
    "<img src=\"https://he-s3.s3.amazonaws.com/media/uploads/c9fa843.png\" width=500>\n",
    "\n",
    "* Pros: good time complexity, low memory usage since the heapify is done in place, simply to understand\n",
    "* Cons: heapify process is costly, unstable sorting\n",
    "\n",
    "Time complexity: $O(n\\log{(n)})$ (\n",
    "- Building max heap requires $O(n)$: Heapify $n/2$ elements, heapify a single subtree takes at most $O(log n)$, but most nodes are near the bottom and require fewer swaps. So the time complexity is $O(n)$ after mathematical analysis instead of $O(n \\log(n))$\n",
    "- Building the output array takes $O(n \\log(n))$: Loop through $n$ elements when constructing the output, heapify the new root takes $O(\\log(n)$\n",
    "\n",
    "Space complexity: $O(\\log n)$\n",
    "- Recursive call stack holds $O(\\log n)$ elements maximum\n",
    "- Auxiliary space can be $O(1)$ for iterative implementation"
   ]
  },
  {
   "cell_type": "code",
   "execution_count": 35,
   "id": "c82ea19a",
   "metadata": {},
   "outputs": [],
   "source": [
    "# Heapify for max heap\n",
    "def heapify(arr, n, i):\n",
    "    \"\"\"\n",
    "        i: the index of the root of the subtree to be heapified.\n",
    "        n: size of the array\n",
    "    \"\"\"\n",
    "    # Initialize the root, left and right indexes for the array\n",
    "    largest = i\n",
    "    l = i * 2 + 1\n",
    "    r = i * 2 + 2\n",
    "    \n",
    "    # If the left index is in the array range and its element is larger than the root element\n",
    "    if (l < n and arr[largest] < arr[l]):\n",
    "        largest = l # swap idx\n",
    "    \n",
    "    # If the right index is in the array range and its element is larger than the current largest element (max of left and i)\n",
    "    if (r < n and arr[largest] < arr[r]):\n",
    "        largest = r # swap idx\n",
    "        \n",
    "    # Swap elements in the array for correct order\n",
    "    if largest != i:\n",
    "        arr[i], arr[largest] = arr[largest], arr[i] # Swap the current root with the whether left or right\n",
    "        \n",
    "        # Recursively heapify the affected subtree until everything is restored in correct order or no swap is made\n",
    "        heapify(arr, n, largest)\n",
    "\n",
    "def heap_sort(arr):\n",
    "    # Loop through half of the array size (only loop through the non-leaf nodes)\n",
    "    # Loop in backward to ensure all orders are correct eventually\n",
    "    for i in range(len(arr) // 2 - 1, -1, -1):\n",
    "        heapify(arr, len(arr), i)\n",
    "    \n",
    "    # Modify the array in backward order to descending order\n",
    "    for i in range(len(arr) - 1, 0, -1):\n",
    "        # Move the root (largest node to the end of the array)\n",
    "        arr[0], arr[i] = arr[i], arr[0]\n",
    "        \n",
    "        # Call heapify to restore the order except the already removed nodes ranging from (i to n-1)\n",
    "        heapify(arr, i, 0)\n",
    "        \n",
    "    return arr"
   ]
  },
  {
   "cell_type": "code",
   "execution_count": 36,
   "id": "f84ebc98",
   "metadata": {},
   "outputs": [
    {
     "data": {
      "text/plain": [
       "[0, 2, 3, 4, 5, 7, 8]"
      ]
     },
     "execution_count": 36,
     "metadata": {},
     "output_type": "execute_result"
    }
   ],
   "source": [
    "heap_sort([5, 4, 2, 0, 8, 3, 7])"
   ]
  },
  {
   "cell_type": "markdown",
   "id": "2dc31ba0",
   "metadata": {},
   "source": [
    "# Summary\n",
    "<img src=\"https://www.hello-algo.com/en/chapter_sorting/summary.assets/sorting_algorithms_comparison.png\">"
   ]
  },
  {
   "cell_type": "code",
   "execution_count": null,
   "id": "a20cf5b2",
   "metadata": {},
   "outputs": [],
   "source": []
  }
 ],
 "metadata": {
  "kernelspec": {
   "display_name": "Python 3 (ipykernel)",
   "language": "python",
   "name": "python3"
  },
  "language_info": {
   "codemirror_mode": {
    "name": "ipython",
    "version": 3
   },
   "file_extension": ".py",
   "mimetype": "text/x-python",
   "name": "python",
   "nbconvert_exporter": "python",
   "pygments_lexer": "ipython3",
   "version": "3.11.5"
  }
 },
 "nbformat": 4,
 "nbformat_minor": 5
}
