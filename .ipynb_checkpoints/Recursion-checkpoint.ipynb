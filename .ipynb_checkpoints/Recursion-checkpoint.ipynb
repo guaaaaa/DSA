{
 "cells": [
  {
   "cell_type": "markdown",
   "id": "e22beea2",
   "metadata": {},
   "source": [
    "# Recursion\n",
    "Recursion breaks down a large problem into smaller subproblems by letting a function calls itself with a smaller input. Recursion stops when a base case is reached (smallest subproblem). Then, it combines the solutions of subproblems to form the solution of a large problem\n",
    "\n",
    "Recursion can be used whenever a problem can be broken down into smaller subproblems. Compared to iterative method, recursion is time and space inefficient, but easier to code.\n",
    "\n",
    "Write recursion:\n",
    "1. Write recursion case (how to break problem down into subproblems)\n",
    "2. Write the base case (when to stop)\n",
    "3. Handle edge cases (eg. invalid input)"
   ]
  },
  {
   "cell_type": "code",
   "execution_count": 4,
   "id": "98de11ec",
   "metadata": {},
   "outputs": [],
   "source": [
    "# Factorial\n",
    "\n",
    "def fac(n):\n",
    "    if n < 0 or int(n) != n:\n",
    "        print(\"Invalid input\")\n",
    "        return\n",
    "    \n",
    "    if n == 0 or n == 1:\n",
    "        return 1\n",
    "    return n * fac(n-1);"
   ]
  },
  {
   "cell_type": "code",
   "execution_count": 7,
   "id": "a5f4fdc9",
   "metadata": {},
   "outputs": [
    {
     "name": "stdout",
     "output_type": "stream",
     "text": [
      "Invalid input\n",
      "Invalid input\n"
     ]
    }
   ],
   "source": [
    "fac(3)\n",
    "fac(3.3)\n",
    "fac(-3.3)"
   ]
  },
  {
   "cell_type": "code",
   "execution_count": 11,
   "id": "20014488",
   "metadata": {},
   "outputs": [],
   "source": [
    "# Fibonacci\n",
    "def fib(n):\n",
    "    if n <= 0:\n",
    "        print(\"Invalid\")\n",
    "        return\n",
    "    if n == 1:\n",
    "        return 0\n",
    "    if n == 2:\n",
    "        return 1\n",
    "    return fib(n-2) + fib(n-1)"
   ]
  },
  {
   "cell_type": "code",
   "execution_count": 17,
   "id": "0050618e",
   "metadata": {},
   "outputs": [
    {
     "data": {
      "text/plain": [
       "5"
      ]
     },
     "execution_count": 17,
     "metadata": {},
     "output_type": "execute_result"
    }
   ],
   "source": [
    "fib(6)"
   ]
  },
  {
   "cell_type": "markdown",
   "id": "489f6532",
   "metadata": {},
   "source": [
    "# Time & space complexity in recursion\n",
    "The time complexity in recursion depends on \n",
    "\n",
    "$$\\text{the number of recursive calls * the time complexity of each recursive call}$$\n",
    "\n",
    "If there're multiple recursive calls in the function, it will form a recursive tree. The number of nodes in the recursive tree is approximately $2^n$ (assuming $n - 1$  in each recursive call). In general, we want to avoid having multiple recursive calls in the same function since the complexity will grow exponetially with increasing input size. We can use memorization or iterative method to achieve this\n",
    "\n",
    "<img src=\"https://miro.medium.com/v2/resize:fit:1400/format:webp/1*YP_lKxOiTw3qW-s-d6kxuA.png\" width=500>\n",
    "\n",
    "The space complexity in recursion depends on \n",
    "\n",
    "$$\\text{the depth of the recursive tree * the space complexity of each recursive call}$$\n",
    "\n",
    "Since on memory stack, after each recursive call completes, the memory used for that call is popped off the stack. Therefore, the number of functions that will exist on stack simultaneously equals to the depth of the recursive tree\n",
    "\n",
    "<img src=\"https://miro.medium.com/v2/resize:fit:1400/format:webp/1*cwKz3XB_h7q4ZXLT7U_jmQ.png\" width=500>"
   ]
  },
  {
   "cell_type": "code",
   "execution_count": null,
   "id": "3c4b7532",
   "metadata": {},
   "outputs": [],
   "source": []
  }
 ],
 "metadata": {
  "kernelspec": {
   "display_name": "Python 3 (ipykernel)",
   "language": "python",
   "name": "python3"
  },
  "language_info": {
   "codemirror_mode": {
    "name": "ipython",
    "version": 3
   },
   "file_extension": ".py",
   "mimetype": "text/x-python",
   "name": "python",
   "nbconvert_exporter": "python",
   "pygments_lexer": "ipython3",
   "version": "3.11.5"
  }
 },
 "nbformat": 4,
 "nbformat_minor": 5
}
