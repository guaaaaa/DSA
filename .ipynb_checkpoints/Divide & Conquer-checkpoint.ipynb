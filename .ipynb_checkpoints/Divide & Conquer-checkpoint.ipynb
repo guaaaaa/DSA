{
 "cells": [
  {
   "cell_type": "markdown",
   "id": "e876d225",
   "metadata": {},
   "source": [
    "# Divide and Conquer\n",
    "\n",
    "1. Divide the problem into multiple smaller subproblems\n",
    "2. Recursively solve the subproblems individually (include terminating conditions for the base case).\n",
    "3. Combine the solutions to subproblems into a solution for the original problem\n",
    "\n",
    "![](https://www.educative.io/api/edpresso/shot/5327356208087040/image/6475288173084672)"
   ]
  },
  {
   "cell_type": "markdown",
   "id": "c9c82dcb",
   "metadata": {},
   "source": [
    "# Merge Sort\n",
    "\n",
    "1. If the input list is empty or contains just one element, it is already sorted. Return it.\n",
    "2. If not, divide the list of numbers into two roughly equal parts.\n",
    "3. Sort each part recursively using the merge sort algorithm. You'll get back two sorted lists.\n",
    "4. Merge the two sorted lists to get a single sorted list\n",
    "\n",
    "<img src=\"https://upload.wikimedia.org/wikipedia/commons/thumb/e/e6/Merge_sort_algorithm_diagram.svg/2560px-Merge_sort_algorithm_diagram.svg.png\" width=\"480\">\n",
    "\n",
    "To merge two sorted arrays, repeatedly compare the two least elements of each array, and copy over the smaller one into a new array.\n",
    "\n",
    "<img src=\"https://i.imgur.com/XeEpa0U.png\" width=\"480\">"
   ]
  },
  {
   "cell_type": "code",
   "execution_count": 27,
   "id": "edcfd0ba",
   "metadata": {},
   "outputs": [],
   "source": [
    "array1 = [2, 1, 3, 5, 9, 6, 10, 8]\n",
    "array2 = [2, 1, 3, 5, 9, 6, 10, 8, 11]"
   ]
  },
  {
   "cell_type": "code",
   "execution_count": 28,
   "id": "db305a3e",
   "metadata": {},
   "outputs": [],
   "source": [
    "def merge(arr1, arr2):\n",
    "    merged = []\n",
    "    i = 0\n",
    "    j = 0\n",
    "    \n",
    "    while i < len(arr1) and j < len(arr2): # both list are not empty\n",
    "        if arr1[i] < arr2[j]:\n",
    "            merged.append(arr1[i])\n",
    "            i+=1\n",
    "        else:\n",
    "            merged.append(arr2[j])\n",
    "            j+=1\n",
    "            \n",
    "    # get remaining elements (one is always empty)\n",
    "    arr1_remain = arr1[i:]\n",
    "    arr2_remain = arr2[j:]\n",
    "    \n",
    "    return merged + arr1_remain + arr2_remain\n",
    "    \n",
    "    \n",
    "\n",
    "def mergeSort(arr):\n",
    "    # Base case: if the input has size of 1, return the array\n",
    "    if len(arr) <= 1:\n",
    "        return arr\n",
    "    \n",
    "    # If the input has size larger than 1, divide it into equal parts\n",
    "    half = len(arr)//2\n",
    "    \n",
    "    # Build up result by merging 2 sub problems,\n",
    "    result = merge(mergeSort(arr[:half]), mergeSort(arr[half:]))\n",
    "    \n",
    "    return result"
   ]
  },
  {
   "cell_type": "code",
   "execution_count": 29,
   "id": "4df06112",
   "metadata": {},
   "outputs": [
    {
     "data": {
      "text/plain": [
       "[1, 2, 3, 5, 6, 8, 9, 10, 11]"
      ]
     },
     "execution_count": 29,
     "metadata": {},
     "output_type": "execute_result"
    }
   ],
   "source": [
    "mergeSort(array2)"
   ]
  },
  {
   "cell_type": "markdown",
   "id": "9e3318aa",
   "metadata": {},
   "source": [
    "## Merge Sort Run Time Complexity\n",
    "For a input size of $n$, the bottom level of the recursion tree is $log2(n)$, and the total level for the recursion tree is $log2(n) + 1$ since the top level is 0.\n",
    "\n",
    "For $j$th level of the tree, for $j = 0, 1, 2, ..., log2(n)$, the total number of subproblems in that level is $2^j$, and each subproblem has a size of $n / 2^j$.\n",
    "\n",
    "Therefore, at $j$th of the tree, the total amount of computation required is (number of subproblems * size of each problem * opeartation required per merge), which is $ 2^j * 6 * n/2^j = 6n$. Thus, the total run time of merge sort for a input size of $n$ is $6n*log2(n+1)$, which is $O(n)=n*log(n)$\n",
    "![](https://i.imgur.com/j1IuS2t.png)"
   ]
  },
  {
   "cell_type": "markdown",
   "id": "076c55fa",
   "metadata": {},
   "source": [
    "# Problem\n",
    "Question 1\n",
    "In this programming assignment you will implement one or more of the integer multiplication algorithms described in lecture.\n",
    "\n",
    "To get the most out of this assignment, your program should restrict itself to multiplying only pairs of single-digit numbers.  You can implement the grade-school algorithm if you want, but to get the most out of the assignment you'll want to implement recursive integer multiplication and/or Karatsuba's algorithm.\n",
    "\n",
    "So: what's the product of the following two 64-digit numbers?\n",
    "\n",
    "3141592653589793238462643383279502884197169399375105820974944592\n",
    "\n",
    "2718281828459045235360287471352662497757247093699959574966967627"
   ]
  },
  {
   "cell_type": "code",
   "execution_count": 35,
   "id": "1fb37c5d",
   "metadata": {},
   "outputs": [
    {
     "data": {
      "text/plain": [
       "8539734222673567065463550869546574495034888535765114961879601127067743044893204848617875072216249073013374895871952806582723184"
      ]
     },
     "execution_count": 35,
     "metadata": {},
     "output_type": "execute_result"
    }
   ],
   "source": [
    "x = 3141592653589793238462643383279502884197169399375105820974944592\n",
    "y = 2718281828459045235360287471352662497757247093699959574966967627\n",
    "x*y"
   ]
  },
  {
   "cell_type": "code",
   "execution_count": 99,
   "id": "71fc972d",
   "metadata": {},
   "outputs": [],
   "source": [
    "# Karatsuba Multiplication for 2 digit number\n",
    "def karatsuba(num1, num2):\n",
    "    a = (num1//10)\n",
    "    c = (num2//10)\n",
    "    b = (num1 - 10*(num1//10))\n",
    "    d = (num2 - 10*(num2//10))\n",
    "    ac = a*c\n",
    "    bd = b*d\n",
    "    abcd = (a+b)*(c+d)-ac-bd\n",
    "    result = ac*100+abcd*10+bd  \n",
    "    return result\n",
    "\n",
    "def product(num1, num2):\n",
    "    # Convert to string\n",
    "    num1 = str(num1)\n",
    "    num2 = str(num2)\n",
    "    \n",
    "    #Check string length\n",
    "    str_L = len(str(num1))\n",
    "    half = str_L/2\n",
    "    \n",
    "    # Base case if both num1 and num2 are double digit\n",
    "    if str_L == 2:\n",
    "        return karatsuba(int(num1), int(num2))\n",
    "    \n",
    "    # Divide num1 & num2 into half if size is larger than 2\n",
    "    a = num1[:int(half)]\n",
    "    b = num1[int(half):]\n",
    "    c = num2[:int(half)]\n",
    "    d = num2[int(half):]\n",
    "    \n",
    "    # Compute ac, bd, ad, bc recursively\n",
    "    ac = product(a, c)\n",
    "    bd = product(b, d)\n",
    "    ad = product(a, d)\n",
    "    bc = product(b, c)\n",
    "    \n",
    "    # Return result for each recursive call\n",
    "    return ac*(10**str_L) + (ad+bc)*(10**int(half)) + bd\n",
    "    "
   ]
  },
  {
   "cell_type": "code",
   "execution_count": 100,
   "id": "e8680228",
   "metadata": {},
   "outputs": [
    {
     "data": {
      "text/plain": [
       "8539734222673567065463550869546574495034888535765114961879601127067743044893204848617875072216249073013374895871952806582723184"
      ]
     },
     "execution_count": 100,
     "metadata": {},
     "output_type": "execute_result"
    }
   ],
   "source": [
    "product(3141592653589793238462643383279502884197169399375105820974944592, 2718281828459045235360287471352662497757247093699959574966967627)"
   ]
  },
  {
   "cell_type": "markdown",
   "id": "d04ea176",
   "metadata": {},
   "source": [
    "# Inversion Problem\n",
    "For an input array of size $n$, an inversion is defined when the value at a previous index is larger than the value at a later index. For example, [1, 2, 3] has 0 inversion, [1, 3, 2] has 1 inversion, and [4, 3, 2, 1] has 6 inversions.\n",
    "\n",
    "Inversion can be used to compare the similarities of 2 arrays (collaborative filtering). The more inversions the two lists have, the more difference they are."
   ]
  },
  {
   "cell_type": "markdown",
   "id": "b6b6e08d",
   "metadata": {},
   "source": [
    "## Solution\n",
    "For an inversion $(i,j)$ for $i<j$ for an array of size $n$, we classify the inversion into 3 types\n",
    "1. Left inversion: when $i,j$ should both be in the left half of the array after sorting $(i,j \\leq n/2)$\n",
    "2. Right inversion: when $i,j$ both in right half of the array after sorting $(i,j > n/2)$\n",
    "3. Split inversion: when $i$ is the in left half and $j$ is in the right half of the array after sorting $(i\\leq n/2 < j)$\n",
    "\n",
    "Thus, the total number of inversions equals left + right + split.\n",
    "\n",
    "To find the left and right inversions, sort the left and half of the array, the number of changes in the array equals the number of left/right inversions.\n",
    "\n",
    "To find the number of split inversions, given two sorted left (A) and right (B) arrays, sort them into a new array (C). Whenever an element in B is added to C, this indicates all the numbers in A that are not being copied into C yet equal the numbers of split inversion. So, we can add all the number of elements remaining in A whenever an element in B is copied to C, and the total sum equals the total number of split inversion."
   ]
  },
  {
   "cell_type": "code",
   "execution_count": null,
   "id": "6533e4d4",
   "metadata": {},
   "outputs": [],
   "source": []
  }
 ],
 "metadata": {
  "kernelspec": {
   "display_name": "Python 3 (ipykernel)",
   "language": "python",
   "name": "python3"
  },
  "language_info": {
   "codemirror_mode": {
    "name": "ipython",
    "version": 3
   },
   "file_extension": ".py",
   "mimetype": "text/x-python",
   "name": "python",
   "nbconvert_exporter": "python",
   "pygments_lexer": "ipython3",
   "version": "3.11.5"
  }
 },
 "nbformat": 4,
 "nbformat_minor": 5
}
